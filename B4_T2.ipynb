{
  "nbformat": 4,
  "nbformat_minor": 0,
  "metadata": {
    "colab": {
      "provenance": [],
      "include_colab_link": true
    },
    "kernelspec": {
      "name": "python3",
      "display_name": "Python 3"
    },
    "language_info": {
      "name": "python"
    }
  },
  "cells": [
    {
      "cell_type": "markdown",
      "metadata": {
        "id": "view-in-github",
        "colab_type": "text"
      },
      "source": [
        "<a href=\"https://colab.research.google.com/github/KCMcafe15/Calorie-Counter/blob/main/B4_T2.ipynb\" target=\"_parent\"><img src=\"https://colab.research.google.com/assets/colab-badge.svg\" alt=\"Open In Colab\"/></a>"
      ]
    },
    {
      "cell_type": "markdown",
      "source": [
        "Mutable: a mutable object is an object whose state can be modified after it is created. This means that you can change the value of a mutable object without creating a new object.\n",
        "\n",
        "Here are some examples of mutable objects in Python:\n"
      ],
      "metadata": {
        "id": "s9rU6g_cSOlj"
      }
    },
    {
      "cell_type": "code",
      "execution_count": null,
      "metadata": {
        "id": "ggZyiDtbR1jT"
      },
      "outputs": [],
      "source": [
        "# Lists: Lists are mutable. You can modify a list by adding, removing, or changing elements.\n",
        "\n",
        "my_list = [1, 2, 3]\n",
        "my_list[0] = 4  # This will change the first element of the list to 4"
      ]
    },
    {
      "cell_type": "code",
      "source": [
        "# Dictionaries: Dictionaries are also mutable. You can add, remove, or change key-value pairs in a dictionary.\n",
        "\n",
        "my_dict = {'name': 'Alice', 'age': 25}\n",
        "my_dict['age'] = 26  # This will change the value associated with the key 'age' to 26"
      ],
      "metadata": {
        "id": "v5b9bo74S0EI"
      },
      "execution_count": null,
      "outputs": []
    },
    {
      "cell_type": "code",
      "source": [
        "# Sets: A set is a collection of unique elements which is unordered and mutable. You can add or remove elements from a set.\n",
        "\n",
        "my_set = {1, 2, 3}\n",
        "my_set.add(4)  # This will add the element 4 to the set"
      ],
      "metadata": {
        "id": "YXZhbt5uS58Y"
      },
      "execution_count": null,
      "outputs": []
    },
    {
      "cell_type": "markdown",
      "source": [
        "Immutable: an immutable object is an object whose state cannot be modified after it is created. This means that every time you want to change the value of an immutable object, a new object is created instead.\n",
        "\n",
        "Here are some examples of immutable objects in Python:"
      ],
      "metadata": {
        "id": "wEmLOLLGTE-u"
      }
    },
    {
      "cell_type": "code",
      "source": [
        "# Integers: Once an integer is defined, its value cannot be changed.\n",
        "# For example, if x = 2, you can’t make x point to a different integer without creating a new integer object.\n",
        "\n",
        "x = 2\n",
        "print(id(x))  # Let's say this prints: 140703785326352\n",
        "\n",
        "x = 3\n",
        "print(id(x))  # This will print a different number: 140703785326384\n"
      ],
      "metadata": {
        "id": "gF7pynXPTNmH"
      },
      "execution_count": null,
      "outputs": []
    },
    {
      "cell_type": "code",
      "source": [
        "# Strings: Strings are also immutable. Once a string is defined, its characters cannot be changed.\n",
        "# If you try to change a character in a string, Python will raise a TypeError.\n",
        "\n",
        "s = \"hello\"\n",
        "# This will raise a TypeError: 'str' object does not support item assignment\n",
        "s[0] = 'j'\n"
      ],
      "metadata": {
        "id": "qsUwMygmTjey"
      },
      "execution_count": null,
      "outputs": []
    },
    {
      "cell_type": "code",
      "source": [
        "# Tuples: A tuple is a collection of objects which are ordered and immutable.\n",
        "# Tuples are sequences, just like lists, but unlike lists, tuples cannot be changed.\n",
        "\n",
        "t = (1, 2, 3)\n",
        "# This will raise a TypeError: 'tuple' object does not support item assignment\n",
        "t[0] = 4"
      ],
      "metadata": {
        "id": "nb9SiJfdTpc9"
      },
      "execution_count": null,
      "outputs": []
    },
    {
      "cell_type": "markdown",
      "source": [
        "Working with Lists: All of these terms are operations that can be performed on lists in Python.\n",
        "\n",
        "Here’s what each one does:"
      ],
      "metadata": {
        "id": "nqBeyHseTyow"
      }
    },
    {
      "cell_type": "code",
      "source": [
        "# Access by index []: This operation is used to access an element in a list at a specific index.\n",
        "# Python lists are zero-indexed, which means the first element is at index 0.\n",
        "\n",
        "my_list = ['a', 'b', 'c']\n",
        "print(my_list[0])  # This will print: 'a'\n"
      ],
      "metadata": {
        "id": "MYtYMOpzT7Mt"
      },
      "execution_count": null,
      "outputs": []
    },
    {
      "cell_type": "code",
      "source": [
        "# append(<element>): This method adds an element to the end of the list.\n",
        "\n",
        "my_list = ['a', 'b', 'c']\n",
        "my_list.append('d')  # The list is now: ['a', 'b', 'c', 'd']\n",
        "print(my_list)"
      ],
      "metadata": {
        "colab": {
          "base_uri": "https://localhost:8080/"
        },
        "id": "faw7_8oQT_6p",
        "outputId": "5969c187-18e1-46da-8c49-12e3ac341459"
      },
      "execution_count": null,
      "outputs": [
        {
          "output_type": "stream",
          "name": "stdout",
          "text": [
            "['a', 'b', 'c', 'd']\n"
          ]
        }
      ]
    },
    {
      "cell_type": "code",
      "source": [
        "# extend(<data structure>) or +: These operations are used to add multiple elements to a list.\n",
        "# extend takes an iterable (like a list or a tuple), and + is used to concatenate two lists.\n",
        "\n",
        "my_list = ['a', 'b', 'c']\n",
        "my_list.extend(['d', 'e'])  # The list is now: ['a', 'b', 'c', 'd', 'e']\n",
        "\n",
        "my_list = ['a', 'b', 'c'] + ['d', 'e']  # The list is now: ['a', 'b', 'c', 'd', 'e']\n"
      ],
      "metadata": {
        "id": "GUQfVwmtUEzO"
      },
      "execution_count": null,
      "outputs": []
    },
    {
      "cell_type": "code",
      "source": [
        "# clear(), pop(<index>): clear removes all elements from the list, and pop removes an element at a specific index and returns it.\n",
        "# If no index is specified, pop removes and returns the last element.\n",
        "\n",
        "my_list = ['a', 'b', 'c']\n",
        "my_list.clear()  # The list is now: []\n",
        "\n",
        "my_list = ['a', 'b', 'c']\n",
        "my_list.pop(1)  # This will return: 'b', and the list is now: ['a', 'c']\n"
      ],
      "metadata": {
        "id": "BuLOvPCtUMr-"
      },
      "execution_count": null,
      "outputs": []
    },
    {
      "cell_type": "code",
      "source": [
        "# insert(<position>, <element>): This method inserts an element at a specific position in the list.\n",
        "\n",
        "my_list = ['a', 'b', 'c']\n",
        "my_list.insert(1, 'd')  # The list is now: ['a', 'd', 'b', 'c']"
      ],
      "metadata": {
        "id": "rypo6C8aUQ50"
      },
      "execution_count": null,
      "outputs": []
    },
    {
      "cell_type": "code",
      "source": [
        "# index(<element>), count(<element>): index returns the index of the first occurrence of an element,\n",
        "# and count returns the number of times an element appears in the list.\n",
        "\n",
        "my_list = ['a', 'b', 'c', 'b']\n",
        "print(my_list.index('b'))  # This will print: 1\n",
        "print(my_list.count('b'))  # This will print: 2"
      ],
      "metadata": {
        "id": "7eV5D-heUVFD"
      },
      "execution_count": null,
      "outputs": []
    },
    {
      "cell_type": "markdown",
      "source": [
        "Working with Dictionaries: These terms are operations that can be performed on dictionaries in Python.\n",
        "\n",
        "Here’s what each one does:"
      ],
      "metadata": {
        "id": "WGJkVuJaU_My"
      }
    },
    {
      "cell_type": "code",
      "source": [
        "# Accessing an item and setting a value with []:\n",
        "# This operation is used to access the value associated with a specific key in the dictionary or to set the value for a specific key.\n",
        "\n",
        "my_dict = {'name': 'Alice', 'age': 25}\n",
        "print(my_dict['name'])  # This will print: 'Alice'\n",
        "\n",
        "my_dict['age'] = 26  # The dictionary is now: {'name': 'Alice', 'age': 26}\n"
      ],
      "metadata": {
        "id": "GmR9MeLVVFen"
      },
      "execution_count": null,
      "outputs": []
    },
    {
      "cell_type": "code",
      "source": [
        "# get(<key>): This method returns the value for a key if it exists in the dictionary. If the key does not exist, it returns None.\n",
        "\n",
        "my_dict = {'name': 'Alice', 'age': 25}\n",
        "print(my_dict.get('name'))  # This will print: 'Alice'\n",
        "print(my_dict.get('address'))  # This will print: None\n"
      ],
      "metadata": {
        "id": "EI2W4eQZVLUj"
      },
      "execution_count": null,
      "outputs": []
    },
    {
      "cell_type": "code",
      "source": [
        "# pop(<key>), clear(): pop removes the item with a specific key and returns its value.\n",
        "# If the key does not exist, it raises a KeyError.\n",
        "# clear removes all items from the dictionary.\n",
        "\n",
        "my_dict = {'name': 'Alice', 'age': 25}\n",
        "print(my_dict.pop('age'))  # This will print: 25, and the dictionary is now: {'name': 'Alice'}\n",
        "\n",
        "my_dict.clear()  # The dictionary is now: {}\n"
      ],
      "metadata": {
        "id": "_rzf7kTiVPYl"
      },
      "execution_count": null,
      "outputs": []
    },
    {
      "cell_type": "code",
      "source": [
        "# update(<dictionary>): This method updates the dictionary with the key-value pairs from another dictionary.\n",
        "# If a key already exists in the original dictionary, its value is updated. New keys are added.\n",
        "\n",
        "my_dict = {'name': 'Alice', 'age': 25}\n",
        "my_dict.update({'age': 26, 'address': '123 Main St'})  # The dictionary is now: {'name': 'Alice', 'age': 26, 'address': '123 Main St'}"
      ],
      "metadata": {
        "id": "1dW3oBrOVTMo"
      },
      "execution_count": null,
      "outputs": []
    },
    {
      "cell_type": "markdown",
      "source": [
        "\"for\" Loop: In Python, a for loop is used for iterating over a sequence (that is either a list, a tuple, a dictionary, a set, or a string) or other iterable objects. Iterating over a sequence is called traversal.\n",
        "\n",
        "Here’s the basic syntax of a for loop in Python:"
      ],
      "metadata": {
        "id": "HfK8FKu6V30p"
      }
    },
    {
      "cell_type": "code",
      "source": [
        "for val in sequence:\n",
        "    # Body of for loop\n",
        "\n",
        "# Here, val is the variable that takes the value of the item inside the sequence on each iteration.\n",
        "# The body of the for loop is indented, and it’s the code that is executed on each iteration.\n",
        "# Here’s an example of a for loop being used to iterate over a list of numbers:\n",
        "\n",
        "numbers = [1, 2, 3, 4, 5]\n",
        "\n",
        "for num in numbers:\n",
        "    print(num)\n",
        "\n",
        "# In this example, the for loop goes through each number in the numbers list, and the print function inside the loop prints the number.\n",
        "# So, the output of this code would be:\n",
        "1\n",
        "2\n",
        "3\n",
        "4\n",
        "5\n",
        "\n"
      ],
      "metadata": {
        "id": "GsIvwMbKV86V"
      },
      "execution_count": null,
      "outputs": []
    },
    {
      "cell_type": "markdown",
      "source": [
        "String operations in Python:"
      ],
      "metadata": {
        "id": "mVMuIjdUWfDK"
      }
    },
    {
      "cell_type": "code",
      "source": [
        "# Access by index []: This operation is used to access a character in a string at a specific index.\n",
        "# Python strings are zero-indexed, which means the first character is at index 0.\n",
        "\n",
        "s = \"hello\"\n",
        "print(s[0])  # This will print: 'h'"
      ],
      "metadata": {
        "id": "MjXNFKoEWjOF"
      },
      "execution_count": null,
      "outputs": []
    },
    {
      "cell_type": "code",
      "source": [
        "# upper(), lower(), strip(): These methods are used to convert a string to uppercase, lowercase,\n",
        "# and remove leading and trailing whitespace, respectively.\n",
        "\n",
        "s = \" Hello World \"\n",
        "print(s.upper())  # This will print: ' HELLO WORLD '\n",
        "print(s.lower())  # This will print: ' hello world '\n",
        "print(s.strip())  # This will print: 'Hello World'"
      ],
      "metadata": {
        "id": "PCjaSU1YWn4m"
      },
      "execution_count": null,
      "outputs": []
    },
    {
      "cell_type": "code",
      "source": [
        "# find(<string>, [<start>, <end>]): This method returns the index of the first occurrence of a substring.\n",
        "# If the substring is not found, it returns -1. Optionally, start and end can be used to specify a range in which to search.\n",
        "\n",
        "s = \"hello\"\n",
        "print(s.find('e'))  # This will print: 1\n",
        "print(s.find('l', 2, 4))  # This will print: 2\n",
        "print(s.find('a'))  # This will print: -1\n"
      ],
      "metadata": {
        "id": "B-318XQQWsnI"
      },
      "execution_count": null,
      "outputs": []
    },
    {
      "cell_type": "code",
      "source": [
        "# split(<string>): This method splits a string into a list of substrings based on a delimiter.\n",
        "\n",
        "s = \"hello world\"\n",
        "print(s.split(' '))  # This will print: ['hello', 'world']\n"
      ],
      "metadata": {
        "id": "zk-Z8RL8Wv8C"
      },
      "execution_count": null,
      "outputs": []
    },
    {
      "cell_type": "code",
      "source": [
        "# join(<data structure>): This method concatenates a list of strings into one string using a delimiter.\n",
        "\n",
        "words = ['hello', 'world']\n",
        "print(' '.join(words))  # This will print: 'hello world'\n"
      ],
      "metadata": {
        "id": "SgTMEeMrWzbr"
      },
      "execution_count": null,
      "outputs": []
    },
    {
      "cell_type": "code",
      "source": [
        "# replace(<string>, <string>): This method replaces all occurrences of a substring with another substring.\n",
        "\n",
        "s = \"hello world\"\n",
        "print(s.replace('world', 'Python'))  # This will print: 'hello Python'"
      ],
      "metadata": {
        "colab": {
          "base_uri": "https://localhost:8080/"
        },
        "id": "Pcy13Np9W3Mg",
        "outputId": "3060beff-6d85-48fd-8345-a0ba4f0ee9bb"
      },
      "execution_count": null,
      "outputs": [
        {
          "output_type": "stream",
          "name": "stdout",
          "text": [
            "hello Python\n"
          ]
        }
      ]
    },
    {
      "cell_type": "markdown",
      "source": [
        "Formatting the Strings: Both of these methods can be used to create strings that include variable content. The f-string method is generally considered more readable and concise, but the format() method can still be useful in certain situations, and is necessary if you’re working with Python versions prior to 3.6."
      ],
      "metadata": {
        "id": "5Du2a8sgXJry"
      }
    },
    {
      "cell_type": "code",
      "source": [
        "# f-string: Introduced in Python 3.6, f-strings offer several benefits over the older .format() string method.\n",
        "# With f-strings, expressions to be evaluated are embedded in curly braces {} directly within the string itself.\n",
        "# Variables can be referenced directly in an f-string.\n",
        "\n",
        "name = \"Alice\"\n",
        "age = 25\n",
        "print(f\"Hello, my name is {name} and I'm {age} years old.\")\n",
        "# This will print: \"Hello, my name is Alice and I'm 25 years old.\""
      ],
      "metadata": {
        "id": "10mCejUAXM48"
      },
      "execution_count": null,
      "outputs": []
    },
    {
      "cell_type": "code",
      "source": [
        "# format() method: This is an older method for formatting strings in Python.\n",
        "# Expressions are represented by curly braces {} in the string,\n",
        "# and the values to substitute into these positions are supplied as arguments to the format() method.\n",
        "\n",
        "name = \"Alice\"\n",
        "age = 25\n",
        "print(\"Hello, my name is {} and I'm {} years old.\".format(name, age))\n",
        "# This will print: \"Hello, my name is Alice and I'm 25 years old.\"\n"
      ],
      "metadata": {
        "id": "YDZ8uuFRXZd2"
      },
      "execution_count": null,
      "outputs": []
    },
    {
      "cell_type": "markdown",
      "source": [
        "Lambda Funtions: In Python, a lambda function is a small anonymous function. A lambda function can take any number of arguments, but can only have one expression.\n",
        "\n",
        "The syntax for lambda functions is:"
      ],
      "metadata": {
        "id": "rT2LzIhmX2sF"
      }
    },
    {
      "cell_type": "code",
      "source": [
        "lambda arguments: expression"
      ],
      "metadata": {
        "id": "tda5SmJyX8SF"
      },
      "execution_count": null,
      "outputs": []
    },
    {
      "cell_type": "code",
      "source": [
        "# Here’s an example of a lambda function that adds two numbers:\n",
        "\n",
        "add = lambda x, y: x + y\n",
        "print(add(5, 3))  # This will print: 8\n",
        "\n",
        "# In this example, x and y are the arguments, and x + y is the expression that gets evaluated and returned."
      ],
      "metadata": {
        "id": "zWKssdpBX_LP"
      },
      "execution_count": null,
      "outputs": []
    },
    {
      "cell_type": "code",
      "source": [
        "# Lambda functions can be used wherever function objects are required. They are syntactically restricted to a single expression.\n",
        "# They are often used in conjunction with typical functional concepts like filter(), map() and reduce().\n",
        "# Here’s an example of using a lambda function with the filter() function, which filters the elements of a list:\n",
        "\n",
        "numbers = [1, 2, 3, 4, 5, 6]\n",
        "even_numbers = list(filter(lambda x: x % 2 == 0, numbers))\n",
        "print(even_numbers)  # This will print: [2, 4, 6]\n",
        "\n",
        "# In this example, the lambda function is lambda x: x % 2 == 0, which checks if a number is even.\n",
        "# The filter() function applies this lambda function to each element of the numbers list and\n",
        "# returns a new list with only the elements for which the lambda function returns True."
      ],
      "metadata": {
        "colab": {
          "base_uri": "https://localhost:8080/"
        },
        "id": "NkfZ_q6XYNQ4",
        "outputId": "07441450-e811-4351-d3a4-95c31bba060b"
      },
      "execution_count": null,
      "outputs": [
        {
          "output_type": "stream",
          "name": "stdout",
          "text": [
            "[2, 4, 6]\n"
          ]
        }
      ]
    }
  ]
}